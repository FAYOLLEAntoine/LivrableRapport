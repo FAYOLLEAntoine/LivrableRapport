{
 "cells": [
  {
   "cell_type": "markdown",
   "metadata": {},
   "source": [
    "# Tutoriel AiiDA\n",
    "\n",
    "## Introduction\n",
    "\n",
    "Ce document est un tutoriel pour un néophyte. Dans la suite, toutes les étapes pour effectuer un calcul numérique et comprendre l'architecture d'AiiDA sont présentées de manière intéractive. Afin de réaliser ce tutoriel, l'utilisateur doit auparavant avoir :\n",
    "* Lancé un conteneur avec AiiDA\n",
    "* Ouvert un serveur Jupyter\n",
    "* Choisi pour source de noyau de ce Python Notebook le serveur Jupyter du conteneur AiiDA"
   ]
  },
  {
   "cell_type": "markdown",
   "metadata": {},
   "source": [
    "### Créer un conteneur AiiDA\n",
    "\n",
    "Nous allons construire notre propre image à partir d'un dockerfile basé sur l'image `aiidateam/aiida-core-with-services` possédant en plus les applications et bibliothèques Python complémentaires désirées (telles que Jupyter).\n",
    "```\n",
    "$ podman build --format=docker --build-arg=proxy=<proxy> --build-arg=workers=<num_workers> -t tutoriel .\n",
    "```\n",
    "L'image ainsi produite est nommée localhost/tutoriel. A partir de celle-ci, nous construisons ainsi un conteneur relier au dossier `tuto` permettant de partager des fichiers entre le conteneur et notre machine:\n",
    "```\n",
    "$ podman run -it --rm -v ./tuto:/home/aiida/tuto:z --userns=keep-id:uid=1000,gid=100 --device nvidia.com/gpu=all --security-opt=label=disable --tz=Europe/Paris --name aiida-tuto localhost/tutoriel:latest bash\n",
    "```"
   ]
  },
  {
   "cell_type": "markdown",
   "metadata": {
    "vscode": {
     "languageId": "plaintext"
    }
   },
   "source": [
    "### Ouvrir un serveur Jupyter\n",
    "\n",
    "Dans le terminal du conteneur :\n",
    "```\n",
    "$ jupyter notebook\n",
    "``` \n",
    "Une fois cette commande effectuée, le terminal ne sert qu'à l'hébergement du serveur Jupyter. Une adresse est générée pour le serveur et affichée dans le terminal, celle-ci est caractérisée par un token nécessaire pour nous y connecter :\n",
    "```\n",
    "    To access the server, open this file in a browser:\n",
    "        file:///home/aiida/.local/share/jupyter/runtime/jpserver-50241-open.html\n",
    "    Or copy and paste one of these URLs:\n",
    "        http://localhost:8888/tree?token=<token>\n",
    "        http://127.0.0.1:8888/tree?token=<token>\n",
    "```\n",
    "Pour la suite, nous allons interagir avec le conteneur à l'aide de VS Code."
   ]
  },
  {
   "cell_type": "markdown",
   "metadata": {
    "vscode": {
     "languageId": "plaintext"
    }
   },
   "source": [
    "### Accéder au conteneur depuis VS Code\n",
    "\n",
    "#### Pour pouvoir ouvrir le conteneur\n",
    "\n",
    "Installer l'extension **Dev Containers**.\n",
    "\n",
    "**Attention** : Pour maintenir **up** le conteneur de AiiDA, le terminal dans lequel il a été ouvert ne doit pas être clos.\n",
    "\n",
    "#### Pour ouvrir le conteneur depuis VSCode :\n",
    "\n",
    "`Ctrl + Alt + o` -> `Attacher au conteneur en cours d'exécution...`->`aiida-tuto`\n",
    "\n",
    "Cette étape peut prendre quelques minutes.  \n",
    "\n",
    "#### Pour avoir accès aux extensions de VSCode\n",
    "Certaines extensions doivent être réinstallées dans le conteneur :   \n",
    "\n",
    "`Ctrl + Maj + X` -> `Installer dans ConteneurDocker.io/aiida...`\n",
    "\n",
    "#### Pour ouvrir le volume\n",
    "\n",
    "`Ctrl + k  Ctrl + o` -> `/home/aiida/tuto/`\n",
    "\n",
    "**Attention**: Tout le contenu produit hors du volume au sein du conteneur sera **définitivement** perdu à l'arrêt de ce dernier.\n",
    "\n",
    "### Sélectionner le noyau d'AiiDA pour ce serveur Jupyter\n",
    "\n",
    "La fenêtre de VSCode rattachée au conteneur ne nous est utile que pour effectuer des commandes directement dans le terminal du conteneur. Nous allons donc nous passer de cela en exécutant des scripts Python depuis ce Python Notebook lu depuis l'extérieur du conteneur. Pour toutes les commandes shell, l'utilisateur est invité à explorer les options disponibles en exécutant la commande :\n",
    "```\n",
    "$ <commande> -h\n",
    "```\n",
    "\n",
    "VSCode va nous permettre automatiquement d'exposer le port du serveur Jupyter (par défaut le 8888) auprès de 'localhost'.\n",
    "\n",
    "S'il n'apparaît pas automatiquement : Aller dans l'onglet' `Port` (à côté de `Terminal`) de la fenêtre attachée au coneneur : `Ajouter un port`-> `8888`.\n",
    "\n",
    "Il est alors possible de \"Sélectionner le noyau\" pour ce Python Notebook (en haut à droite dans VSCode par défaut) : ```Serveur Jupyter Existant``` -> Renseigner l'adresse du serveur Jupyter\n",
    "\n",
    "Nous pouvons maintenant exécuter des scripts Python dans AiiDA depuis ce Python Notebook !"
   ]
  },
  {
   "cell_type": "markdown",
   "metadata": {},
   "source": [
    "## Bien commencer un script Python avec AiiDA\n",
    "\n",
    "Afin d'importer les bons modules de base d'AiiDA, il est nécessaire de mettre en préambule les lignes de code suivantes :"
   ]
  },
  {
   "cell_type": "code",
   "execution_count": 1,
   "metadata": {},
   "outputs": [],
   "source": [
    "from aiida import load_profile\n",
    "load_profile()\n",
    "%reload_ext aiida\n",
    "%aiida"
   ]
  },
  {
   "cell_type": "markdown",
   "metadata": {},
   "source": [
    "L'environnement Python aura ainsi accès à la Base De Données(BDD) AiiDA du conteneur."
   ]
  },
  {
   "cell_type": "markdown",
   "metadata": {},
   "source": [
    "## Effectuer un calcul Python\n",
    "\n",
    "AiiDA fournit les outils afin de garder la provenance des données. Ainsi chaque type de donnée Python possède son type équivalent pour être stocké dans la BDD AiiDA.\n",
    "\n",
    "Considérons le script Python suivant :"
   ]
  },
  {
   "cell_type": "code",
   "execution_count": 2,
   "metadata": {},
   "outputs": [],
   "source": [
    "def somme(x,y):\n",
    "    return x+y\n",
    "\n",
    "a = 5\n",
    "b = 3\n",
    "c = somme(a,b)\n",
    "print(c)"
   ]
  },
  {
   "cell_type": "markdown",
   "metadata": {},
   "source": [
    "L'équivalent AiiDA serait le suivant :"
   ]
  },
  {
   "cell_type": "code",
   "execution_count": 3,
   "metadata": {},
   "outputs": [],
   "source": [
    "# Module pour les \"fonctions AiiDA\"\n",
    "from aiida.engine import calcfunction\n",
    "\n",
    "@calcfunction\n",
    "def somme_aiida(x,y) :\n",
    "    return x+y\n",
    "\n",
    "# Module pour les types de données AiiDA permettant le stockage immédiat dans la BDD\n",
    "# orm = Objet-Relation Mapping\n",
    "from aiida import orm\n",
    "# orm.Int permet de générer un entier \"AiiDA\" nommer noeud dans la suite\n",
    "a = orm.Int(5)\n",
    "b = orm.Int(3)\n",
    "c = somme_aiida(a,b)\n",
    "print(c)"
   ]
  },
  {
   "cell_type": "markdown",
   "metadata": {},
   "source": [
    "Sans surprise, on remarque qu'afficher la variable c produite ne donne pas que sa valeur.\n",
    "\n",
    "On remarque en premier un uuid. Cette clé unique permet d'identifier le noeud.\n",
    "\n",
    "Ensuite, se trouve une clé pk unique à la session. Attention : exécuter plusieurs fois une même cellule Python de ce Notebook pourrait changer les clés Pk de celles prévues.\n",
    "\n",
    "Enfin, on peut noter la valeur stockée dans la variable c. Celle-ci est stockée dans le noeud qui est stocké définitivement dans la BDD."
   ]
  },
  {
   "cell_type": "markdown",
   "metadata": {},
   "source": [
    "## Commandes Shell depuis un Python Notebook\n",
    "\n",
    "### Informations sur un noeud\n",
    "\n",
    "A l'aide du module subprocess, il est nous est possible d'effectuer des commandes shell depuis ce Python Notebook. Il est par exemple possible d'inspecter un noeud stocké dans la BDD :"
   ]
  },
  {
   "cell_type": "code",
   "execution_count": 4,
   "metadata": {},
   "outputs": [],
   "source": [
    "import subprocess\n",
    "\n",
    "# Commande shell à exécuter\n",
    "command = [\"verdi\", \"node\", \"show\", \"4\"]\n",
    "\n",
    "# Exécution de la commande\n",
    "result = subprocess.run(command, capture_output=True, text=True)\n",
    "\n",
    "# Affichage de la sortie et des erreurs\n",
    "print(\"Sortie standard :\")\n",
    "print(result.stdout)\n",
    "\n",
    "print(\"Erreur standard :\")\n",
    "print(result.stderr)"
   ]
  },
  {
   "cell_type": "markdown",
   "metadata": {},
   "source": [
    "On obtient alors différentes informations sur le noeud. Ces informations peuvent toutes être obtenues directement via des commandes Python indépendantes du shell :"
   ]
  },
  {
   "cell_type": "code",
   "execution_count": 5,
   "metadata": {},
   "outputs": [],
   "source": [
    "a = orm.load_node(4)\n",
    "print(\"Type :\")\n",
    "print(a.class_node_type)\n",
    "print(\"Pk :\")\n",
    "print(a.pk)\n",
    "print(\"uuid :\")\n",
    "print(a.uuid)\n",
    "print(\"label :\")\n",
    "print(a.label)\n",
    "print(\"Description :\")\n",
    "print(a.description)\n",
    "print(\"Date de creation :\")\n",
    "print(a.ctime)\n",
    "print(\"Date de derniere modification :\")\n",
    "print(a.mtime)"
   ]
  },
  {
   "cell_type": "markdown",
   "metadata": {},
   "source": [
    "De cette manière, toute information à propos d'un noeud AiiDA pourra être récupéré et stocké dans une variable Python. Attention, si cela ne se fait pas via un processus AiiDA, la provenance sera perdue."
   ]
  },
  {
   "cell_type": "markdown",
   "metadata": {},
   "source": [
    "### Graphe de provenance\n",
    "\n",
    "Tout noeud stocké dans la BDD possède son propre graphe de provenance. Il est relié à d'autres noeuds par des processus. Il est possible de générer un graphe composé de tous les noeuds relié à un autre avec la commande suivante :"
   ]
  },
  {
   "cell_type": "code",
   "execution_count": 11,
   "metadata": {},
   "outputs": [],
   "source": [
    "a = orm.load_node(4)\n",
    "command = [\"verdi\",\"node\",\"graph\",\"generate\",\"4\"]\n",
    "result = subprocess.run(command, capture_output=True, text=True)\n",
    "print(result.stdout)\n",
    "\n",
    "command = [\"mv\", \"4.dot.pdf\", \"tuto/graphe.pdf\"]\n",
    "result = subprocess.run(command)"
   ]
  },
  {
   "cell_type": "markdown",
   "metadata": {},
   "source": [
    "Un pdf a été généré et stocké dans le dossier tuto. En vert se trouvent les noeuds de données, en rose l'exécution d'une \"calcfunction\" et entouré en rouge le noeud à partir duquel le graphe a été généré. Les liens dans la BDD peuvent être eux aussi explorés à l'aide de classe Python. Il est aussi possible d'effectuer des requêtes SQL via les classes Python d'AiiDA."
   ]
  },
  {
   "cell_type": "markdown",
   "metadata": {},
   "source": [
    "## Importation de Pseudo-Potentiels\n",
    "\n",
    "Le code suivant permet d'importer les pseudos-potentiels pour nos simulations. La commande shell équivalente aurait été :\n",
    "```\n",
    "aiida-pseudo install pseudo-dojo -f upf -x PBEsol\n -r FR",
    "```\n",
    "Ici, les pseudos-potentiels sont téléchargés à partir de la base de données de [Pseudo-Dojo](https://www.bing.com/ck/a?!&&p=2ab6315d73556915JmltdHM9MTcyNjM1ODQwMCZpZ3VpZD0xNjIyMDA3Ny03ODhjLTY1ZGUtMDcwYy0xNGYxNzljYjY0YzYmaW5zaWQ9NTE5OQ&ptn=3&ver=2&hsh=3&fclid=16220077-788c-65de-070c-14f179cb64c6&psq=pseudo+dojo&u=a1aHR0cDovL3d3dy5wc2V1ZG8tZG9qby5vcmcv&ntb=1). Nous avons installé ceux au format upf de type PBEsol."
   ]
  },
  {
   "cell_type": "code",
   "execution_count": 12,
   "metadata": {},
   "outputs": [],
   "source": [
    "import subprocess\n",
    "\n",
    "\n",
    "command = [\"aiida-pseudo\", \"install\", \"pseudo-dojo\", \"-f\", \"upf\", \"-x\", \"PBEsol\", \"-r\", \"FR"]\n",
    "result = subprocess.run(command, capture_output=True, text=True)\n",
    "print(result.stdout)"
   ]
  },
  {
   "cell_type": "markdown",
   "metadata": {},
   "source": [
    "## Execution d'un programme à l'aide d'un plugin\n",
    "\n",
    "Les plugins AiiDA permettent l'exécution d'applications tierces en stockant toutes les données de calculs dans la BDD AiiDA. Nous allons prendre l'exemple du programme pw.x de QuantumESPRESSO (le plugin est nommé quantumespresso.pw). En temps normal, ce programme prend en argument un unique fichier d'entrée contenant toutes les données d'entrée (inputs) et produit un unique ficher de sortie. Le plugin AiiDA décompose ces entités en différents éléments. Les inputs doivent être séparément définis et stockés dans un processus de montage (lui-même construit à partir du plugin). Une fois tout le processus préparé, l'exécution du programme peut être gérée par le Daemon."
   ]
  },
  {
   "cell_type": "markdown",
   "metadata": {},
   "source": [
    "### Création du code de calcul\n",
    "\n",
    "Ce code nécessite l'accès à l'exécutable pw.x, au plugin et à un ordinateur (pour les ressources de calcul). Il possède alors lui aussi une clé et est stocké dans la BDD mais dans un partie différentes des données de clacul et des processus."
   ]
  },
  {
   "cell_type": "code",
   "execution_count": 13,
   "metadata": {},
   "outputs": [],
   "source": [
    "code_pw = orm.InstalledCode(label='pw', computer = load_computer('localhost'), filepath_executable='/usr/local/bin/pw.x', default_calc_job_plugin='quantumespresso.pw', description='Code Pw via QE').store()"
   ]
  },
  {
   "cell_type": "markdown",
   "metadata": {},
   "source": [
    "### Importation d'un fichier possédant les informations cristallographiques\n",
    "\n",
    "Ici, on importe dans Python et dans la BDD les informations contenues dans le fichiers .cif. Il possède des renseignements sur la structure cristallographique que l'on souhaite étudier.\n",
    "\n",
    "L'utilisation de modules de pymatgen permet de duper AiiDA et de rendre les deux atomes de Fer de la maille inéquivalent aux yeux de la structure des données.\n"
   ]
  },
  {
   "cell_type": "code",
   "execution_count": 15,
   "metadata": {},
   "outputs": [],
   "source": [
    "from pymatgen.core.structure import Structure\n",
    "from pymatgen.analysis.magnetism.analyzer import CollinearMagneticStructureAnalyzer\n",
    "from os.path import isfile\n",
    "from aiida.orm import StructureData\n",
    "\n",
    "file_path = \"/home/aiida/tuto/Fe.cif\"\n",
    "\n",
    "if not isfile(file_path) :\n",
    "    raise FileNotFoundError(\"No such file : '{}'\".format(file_path))\n",
    "try:\n",
    "    bulk_structure = Structure.from_file(file_path)\n",
    "    magnetic_structure = CollinearMagneticStructureAnalyzer(bulk_structure, make_primitive=False)\n",
    "    aiida_structure = StructureData(pymatgen=magnetic_structure.get_structure_with_spin())\n",
    "    print('Imported with pk = {}'.format(aiida_structure.pk))\n",
    "except ValueError as err:\n",
    "    print(str(err))"
   ]
  },
  {
   "cell_type": "markdown",
   "metadata": {},
   "source": [
    "On remarquera qu'à ce stade, ce noeud n'est pas stocké et ne possède pas de clé pk. En effet, tant qu'une donnée AiiDA n'a pas été spécifiquement stockée à l'aide de la méthode ```.store()``` et n'est reliée à aucune autre donnée via un processus, celle-ci ne possède pas de clé et n'est pas stockée dans la BDD."
   ]
  },
  {
   "cell_type": "markdown",
   "metadata": {},
   "source": [
    "### Importation de l'ensemble des points K pour la simulation"
   ]
  },
  {
   "cell_type": "code",
   "execution_count": 18,
   "metadata": {},
   "outputs": [],
   "source": [
    "from aiida.orm import StructureData\n",
    "KpointsData = DataFactory('core.array.kpoints')\n",
    "\n",
    "kpoints = KpointsData()\n",
    "kpoints.set_kpoints_mesh([4]*3)"
   ]
  },
  {
   "cell_type": "markdown",
   "metadata": {},
   "source": [
    "### Importation des pseudos-potentiels"
   ]
  },
  {
   "cell_type": "code",
   "execution_count": 17,
   "metadata": {},
   "outputs": [],
   "source": [
    "try :\n",
    "    pseudo_family = load_group(1)\n",
    "except exc.NotExistent :\n",
    "    print(\"Pls load a pseudo family via a shell command\")"
   ]
  },
  {
   "cell_type": "markdown",
   "metadata": {},
   "source": [
    "### Préparation des autres paramètre de la simulation numérique sous la forme d'un dictionnaire\n",
    "\n",
    "La majorité des paramètres restants de l'application pw.x sont identiquement traduit dans un dictionnaire AiiDA :"
   ]
  },
  {
   "cell_type": "code",
   "execution_count": 19,
   "metadata": {},
   "outputs": [],
   "source": [
    "parameters = {\n",
    "   'CONTROL': {\n",
    "        'calculation': 'scf',\n",
    "        },\n",
    "    'SYSTEM': {            \n",
    "        'ecutwfc': 120.,\n",
    "        'ecutrho': 800.,\n",
    "        'starting_magnetization': {'Fe1': 0.6, 'Fe2': -0.6},\n",
    "        'occupations': 'smearing',\n",
    "        'smearing': 'cold',\n",
    "        'degauss': 0.02,\n",
    "        'nspin': 2\n",
    "        },\n",
    "    }"
   ]
  },
  {
   "cell_type": "markdown",
   "metadata": {},
   "source": [
    "### Préparation du builder\n",
    "\n",
    "A cet instant, tous les inputs sont prêts. Il suffit de les regrouper à l'aide du processus de montage (builer) tout en y ajoutant les quelques paramètres manquant :"
   ]
  },
  {
   "cell_type": "code",
   "execution_count": 20,
   "metadata": {},
   "outputs": [],
   "source": [
    "builder = code_pw.get_builder()\n",
    "builder.structure = aiida_structure\n",
    "pseudos = pseudo_family.get_pseudos(structure=builder.structure)\n",
    "builder.pseudos = pseudos\n",
    "builder.parameters = Dict(dict=parameters)\n",
    "builder.kpoints = kpoints\n",
    "builder.metadata.options.withmpi = True\n",
    "builder.metadata.options.resources = {\"num_machines\":1}"
   ]
  },
  {
   "cell_type": "markdown",
   "metadata": {},
   "source": [
    "### Exécution du processus\n",
    "\n",
    "L'exécution du processus peut se faire de différentes manières. La fonction `submit` permet de soumettre l'exécution du processus au Daemon tandis que l le script Python continue. Les arguments `wait` et `wait_interval` permettent de contrevenir à cela : le script Python continuera une fois le processus terminé. Cela est à privilégier par rapport à la fonction `run` dont l'exécution doit se terminer avant une quelconque autre action. En effet, dans ce cas, si l'interface Python a un problème, cela peut mettre en échec le processus en cours. De l'autre côté, le Daemon est autonome et est mieux armé pour gérer les échecs."
   ]
  },
  {
   "cell_type": "code",
   "execution_count": 21,
   "metadata": {},
   "outputs": [],
   "source": [
    "from aiida.engine import submit\n",
    "process = submit(builder, wait = True, wait_interval = 2)\n",
    "process.label = 'Ceci est un calcul SCF'"
   ]
  },
  {
   "cell_type": "markdown",
   "metadata": {},
   "source": [
    "### Graphe de provenance du Processus\n",
    "\n",
    "A partir de la clef pk du processus, il est possible de générer un graphe de provenance illustrant toutes les données d'entrée et de sortie. Cette fois-ci, ce sont les clef pk (et non uuid) qui apparaissent dans le graphe."
   ]
  },
  {
   "cell_type": "code",
   "execution_count": 26,
   "metadata": {},
   "outputs": [],
   "source": [
    "clef = str(process.pk)\n",
    "command = [\"verdi\",\"node\",\"graph\",\"generate\",clef, \"--identifier\", \"pk\"]\n",
    "result = subprocess.run(command, capture_output=True, text=True)\n",
    "print(result.stdout)\n",
    "\n",
    "command = [\"mv\", clef+\".dot.pdf\", \"tuto/processusQE.pdf\"]\n",
    "result = subprocess.run(command)"
   ]
  },
  {
   "cell_type": "code",
   "execution_count": null,
   "metadata": {},
   "outputs": [],
   "source": [
    "abcde"
   ]
  }
 ],
 "metadata": {
  "kernelspec": {
   "display_name": "Python 3 (ipykernel)",
   "language": "python",
   "name": "python3"
  }
 },
 "nbformat": 4,
 "nbformat_minor": 2
}
